{
 "metadata": {
  "language_info": {
   "codemirror_mode": {
    "name": "ipython",
    "version": 3
   },
   "file_extension": ".py",
   "mimetype": "text/x-python",
   "name": "python",
   "nbconvert_exporter": "python",
   "pygments_lexer": "ipython3",
   "version": "3.8.3-final"
  },
  "orig_nbformat": 2,
  "kernelspec": {
   "name": "python3",
   "display_name": "Python 3.8.3 64-bit",
   "metadata": {
    "interpreter": {
     "hash": "885098c466badaa0d9d1fac7103063b7f5983e57aafce30a2d2c0303d4df48bb"
    }
   }
  }
 },
 "nbformat": 4,
 "nbformat_minor": 2,
 "cells": [
  {
   "source": [
    "# Modelo de Gordon - FIIs\n",
    "### Recomendação: FIIs de Tijolos"
   ],
   "cell_type": "markdown",
   "metadata": {}
  },
  {
   "cell_type": "code",
   "execution_count": 1,
   "metadata": {},
   "outputs": [],
   "source": [
    "# Bibliotecas\n",
    "import numpy as np\n",
    "import pandas as pd\n",
    "import requests\n",
    "import yfinance as yf"
   ]
  },
  {
   "cell_type": "code",
   "execution_count": 2,
   "metadata": {},
   "outputs": [],
   "source": [
    "# Fundos Imobiliários \n",
    "list_fiis=['XPLG11','HGLG11','HGRE11','SDIL11']"
   ]
  },
  {
   "cell_type": "code",
   "execution_count": 3,
   "metadata": {},
   "outputs": [],
   "source": [
    "# Obtendo Dividendos (Fonte: fundamentus.com.br)\n",
    "list_df = []\n",
    "dic_sum12 = {}\n",
    "for fii in list_fiis:\n",
    "    url = f'http://www.fundamentus.com.br/fii_proventos.php?papel={fii}&tipo=2'\n",
    "    header = {\"User-Agent\": \"Mozilla/5.0 (Windows NT 10.0; Win64; x64) AppleWebKit/537.36 (KHTML, like Gecko) Chrome/84.0.4147.89 Safari/537.36\"}    \n",
    "    r = requests.get(url, headers=header)\n",
    "    df = pd.read_html(r.text,  decimal=',', thousands='.')[0]\n",
    "    df['Data de Pagamento'] = df['Data de Pagamento'].apply(pd.to_datetime,format='%d/%m/%Y')\n",
    "    df = df[['Data de Pagamento','Valor']].set_index('Data de Pagamento')    \n",
    "    df.index.rename('Data',inplace=True)\n",
    "    df.rename(columns={'Valor':fii},inplace=True)\n",
    "    list_df.append(df)\n",
    "    dic_sum12[fii] = round(df[fii].head(12).sum(),4)\n",
    "\n",
    "df_fii = pd.concat(list_df,axis=1)\n",
    "df_fii.index = df_fii.index.sort_values()"
   ]
  },
  {
   "cell_type": "code",
   "execution_count": 4,
   "metadata": {},
   "outputs": [],
   "source": [
    "# Obtendo Valores dos Títulos do Tesouro Direto\n",
    "url_td = 'https://www.tesourotransparente.gov.br/ckan/dataset/df56aa42-484a-4a59-8184-7676580c81e3/resource/796d2059-14e9-44e3-80c9-2d9e30b405c1/download/PrecoTaxaTesouroDireto.csv'\n",
    "df_td_raw = pd.read_csv(url_td,sep=';')\n",
    "\n",
    "# Limpando os Dados e Gerando um DF com as Taxas de Compra (IPCA+)\n",
    "df_td = df_td_raw[df_td_raw['Tipo Titulo'].isin(['Tesouro IPCA+','Tesouro IPCA+ com Juros Semestrais'])].drop(columns=['Taxa Venda Manha','PU Compra Manha','PU Venda Manha','PU Base Manha'])\n",
    "df_td[['Data Base','Data Vencimento']] = df_td[['Data Base','Data Vencimento']].apply(pd.to_datetime,format='%d/%m/%Y')\n",
    "df_td = df_td.sort_values(by=['Data Base','Data Vencimento'])\n",
    "df_td = df_td.pivot_table(values='Taxa Compra Manha', index=['Data Base','Data Vencimento'],columns='Tipo Titulo',aggfunc='first')"
   ]
  },
  {
   "cell_type": "code",
   "execution_count": 43,
   "metadata": {},
   "outputs": [],
   "source": [
    "# Obtendo Dados sobre a Expectativa do Mercado para a Inflação nos próximos 12 Meses\n",
    "url_ex = \"https://olinda.bcb.gov.br/olinda/servico/Expectativas/versao/v1/odata/ExpectativasMercadoInflacao12Meses?$orderby=Data&$format=text/csv&$select=Indicador,Data,Media,Mediana,Minimo,Maximo,numeroRespondentes\"\n",
    "df_ex_raw = pd.read_csv(url_ex,sep=',')\n",
    "df_ex = df_ex_raw[df_ex_raw['Indicador']=='IPCA']\n",
    "df_ex.rename(columns={'Indicador': 'Expectativa do Mercado'},inplace=True)\n"
   ]
  },
  {
   "cell_type": "code",
   "execution_count": 44,
   "metadata": {},
   "outputs": [
    {
     "output_type": "display_data",
     "data": {
      "text/plain": "            XPLG11  HGLG11  HGRE11  SDIL11\nData                                      \n2020-07-14     NaN    0.78    0.57     NaN\n2020-07-15    0.57     NaN     NaN    0.44\n2020-08-14    0.58    0.78    0.65    0.50\n2020-09-15    0.58    0.78    0.65    0.55\n2020-10-15    0.58    0.60    0.65    0.55\n2020-11-13    0.58     NaN     NaN    0.59\n2020-11-16     NaN    0.78    0.65     NaN\n2020-12-14    0.58    0.78    0.65     NaN\n2020-12-15     NaN     NaN     NaN    0.60\n2021-01-15    0.60    2.63    0.97    0.60",
      "text/html": "<div>\n<style scoped>\n    .dataframe tbody tr th:only-of-type {\n        vertical-align: middle;\n    }\n\n    .dataframe tbody tr th {\n        vertical-align: top;\n    }\n\n    .dataframe thead th {\n        text-align: right;\n    }\n</style>\n<table border=\"1\" class=\"dataframe\">\n  <thead>\n    <tr style=\"text-align: right;\">\n      <th></th>\n      <th>XPLG11</th>\n      <th>HGLG11</th>\n      <th>HGRE11</th>\n      <th>SDIL11</th>\n    </tr>\n    <tr>\n      <th>Data</th>\n      <th></th>\n      <th></th>\n      <th></th>\n      <th></th>\n    </tr>\n  </thead>\n  <tbody>\n    <tr>\n      <th>2020-07-14</th>\n      <td>NaN</td>\n      <td>0.78</td>\n      <td>0.57</td>\n      <td>NaN</td>\n    </tr>\n    <tr>\n      <th>2020-07-15</th>\n      <td>0.57</td>\n      <td>NaN</td>\n      <td>NaN</td>\n      <td>0.44</td>\n    </tr>\n    <tr>\n      <th>2020-08-14</th>\n      <td>0.58</td>\n      <td>0.78</td>\n      <td>0.65</td>\n      <td>0.50</td>\n    </tr>\n    <tr>\n      <th>2020-09-15</th>\n      <td>0.58</td>\n      <td>0.78</td>\n      <td>0.65</td>\n      <td>0.55</td>\n    </tr>\n    <tr>\n      <th>2020-10-15</th>\n      <td>0.58</td>\n      <td>0.60</td>\n      <td>0.65</td>\n      <td>0.55</td>\n    </tr>\n    <tr>\n      <th>2020-11-13</th>\n      <td>0.58</td>\n      <td>NaN</td>\n      <td>NaN</td>\n      <td>0.59</td>\n    </tr>\n    <tr>\n      <th>2020-11-16</th>\n      <td>NaN</td>\n      <td>0.78</td>\n      <td>0.65</td>\n      <td>NaN</td>\n    </tr>\n    <tr>\n      <th>2020-12-14</th>\n      <td>0.58</td>\n      <td>0.78</td>\n      <td>0.65</td>\n      <td>NaN</td>\n    </tr>\n    <tr>\n      <th>2020-12-15</th>\n      <td>NaN</td>\n      <td>NaN</td>\n      <td>NaN</td>\n      <td>0.60</td>\n    </tr>\n    <tr>\n      <th>2021-01-15</th>\n      <td>0.60</td>\n      <td>2.63</td>\n      <td>0.97</td>\n      <td>0.60</td>\n    </tr>\n  </tbody>\n</table>\n</div>"
     },
     "metadata": {}
    },
    {
     "output_type": "display_data",
     "data": {
      "text/plain": "Tipo Titulo                Tesouro IPCA+ Tesouro IPCA+ com Juros Semestrais\nData Base  Data Vencimento                                                 \n2021-01-18 2024-08-15               1,97                               1,88\n           2026-08-15               2,74                               2,60\n           2030-08-15                NaN                               3,17\n           2035-05-15               3,60                               3,42\n           2040-08-15                NaN                               3,72\n           2045-05-15               3,60                               3,96\n           2050-08-15                NaN                               3,97\n           2055-05-15                NaN                               3,99",
      "text/html": "<div>\n<style scoped>\n    .dataframe tbody tr th:only-of-type {\n        vertical-align: middle;\n    }\n\n    .dataframe tbody tr th {\n        vertical-align: top;\n    }\n\n    .dataframe thead th {\n        text-align: right;\n    }\n</style>\n<table border=\"1\" class=\"dataframe\">\n  <thead>\n    <tr style=\"text-align: right;\">\n      <th></th>\n      <th>Tipo Titulo</th>\n      <th>Tesouro IPCA+</th>\n      <th>Tesouro IPCA+ com Juros Semestrais</th>\n    </tr>\n    <tr>\n      <th>Data Base</th>\n      <th>Data Vencimento</th>\n      <th></th>\n      <th></th>\n    </tr>\n  </thead>\n  <tbody>\n    <tr>\n      <th rowspan=\"8\" valign=\"top\">2021-01-18</th>\n      <th>2024-08-15</th>\n      <td>1,97</td>\n      <td>1,88</td>\n    </tr>\n    <tr>\n      <th>2026-08-15</th>\n      <td>2,74</td>\n      <td>2,60</td>\n    </tr>\n    <tr>\n      <th>2030-08-15</th>\n      <td>NaN</td>\n      <td>3,17</td>\n    </tr>\n    <tr>\n      <th>2035-05-15</th>\n      <td>3,60</td>\n      <td>3,42</td>\n    </tr>\n    <tr>\n      <th>2040-08-15</th>\n      <td>NaN</td>\n      <td>3,72</td>\n    </tr>\n    <tr>\n      <th>2045-05-15</th>\n      <td>3,60</td>\n      <td>3,96</td>\n    </tr>\n    <tr>\n      <th>2050-08-15</th>\n      <td>NaN</td>\n      <td>3,97</td>\n    </tr>\n    <tr>\n      <th>2055-05-15</th>\n      <td>NaN</td>\n      <td>3,99</td>\n    </tr>\n  </tbody>\n</table>\n</div>"
     },
     "metadata": {}
    },
    {
     "output_type": "display_data",
     "data": {
      "text/plain": "      Expectativa do Mercado        Data Media Mediana Minimo Maximo  \\\n80425                   IPCA  2021-01-14  3,51    3,48    2,5    4,2   \n80433                   IPCA  2021-01-15  3,49    3,43   2,68   4,26   \n80434                   IPCA  2021-01-15  3,52    3,47   2,89   4,26   \n80442                   IPCA  2021-01-15  3,49    3,43   2,63   4,25   \n80443                   IPCA  2021-01-15  3,52    3,47   2,89   4,25   \n\n       numeroRespondentes  \n80425                54.0  \n80433               120.0  \n80434                99.0  \n80442                97.0  \n80443                81.0  ",
      "text/html": "<div>\n<style scoped>\n    .dataframe tbody tr th:only-of-type {\n        vertical-align: middle;\n    }\n\n    .dataframe tbody tr th {\n        vertical-align: top;\n    }\n\n    .dataframe thead th {\n        text-align: right;\n    }\n</style>\n<table border=\"1\" class=\"dataframe\">\n  <thead>\n    <tr style=\"text-align: right;\">\n      <th></th>\n      <th>Expectativa do Mercado</th>\n      <th>Data</th>\n      <th>Media</th>\n      <th>Mediana</th>\n      <th>Minimo</th>\n      <th>Maximo</th>\n      <th>numeroRespondentes</th>\n    </tr>\n  </thead>\n  <tbody>\n    <tr>\n      <th>80425</th>\n      <td>IPCA</td>\n      <td>2021-01-14</td>\n      <td>3,51</td>\n      <td>3,48</td>\n      <td>2,5</td>\n      <td>4,2</td>\n      <td>54.0</td>\n    </tr>\n    <tr>\n      <th>80433</th>\n      <td>IPCA</td>\n      <td>2021-01-15</td>\n      <td>3,49</td>\n      <td>3,43</td>\n      <td>2,68</td>\n      <td>4,26</td>\n      <td>120.0</td>\n    </tr>\n    <tr>\n      <th>80434</th>\n      <td>IPCA</td>\n      <td>2021-01-15</td>\n      <td>3,52</td>\n      <td>3,47</td>\n      <td>2,89</td>\n      <td>4,26</td>\n      <td>99.0</td>\n    </tr>\n    <tr>\n      <th>80442</th>\n      <td>IPCA</td>\n      <td>2021-01-15</td>\n      <td>3,49</td>\n      <td>3,43</td>\n      <td>2,63</td>\n      <td>4,25</td>\n      <td>97.0</td>\n    </tr>\n    <tr>\n      <th>80443</th>\n      <td>IPCA</td>\n      <td>2021-01-15</td>\n      <td>3,52</td>\n      <td>3,47</td>\n      <td>2,89</td>\n      <td>4,25</td>\n      <td>81.0</td>\n    </tr>\n  </tbody>\n</table>\n</div>"
     },
     "metadata": {}
    },
    {
     "output_type": "display_data",
     "data": {
      "text/plain": "{'XPLG11': 7.01, 'HGLG11': 11.03, 'HGRE11': 8.06, 'SDIL11': 6.23}"
     },
     "metadata": {}
    }
   ],
   "source": [
    "display(df_fii.tail(10)) # DF com os últimos dividendos \n",
    "display(df_td.tail(8)) # DF com as taxas do tesouro direto\n",
    "display(df_ex.tail(5)) # DF com com a expectativa do mercado para a inflação \n",
    "display(dic_sum12) # Dicionário com a soma dos últimos 12 dividendos"
   ]
  },
  {
   "cell_type": "code",
   "execution_count": 47,
   "metadata": {},
   "outputs": [
    {
     "output_type": "execute_result",
     "data": {
      "text/plain": [
       "            XPLG11  HGLG11  HGRE11  SDIL11\n",
       "19/01/2021  120.30  181.50  150.15  103.12\n",
       "Gordon      116.45  174.42  150.50  103.49"
      ],
      "text/html": "<div>\n<style scoped>\n    .dataframe tbody tr th:only-of-type {\n        vertical-align: middle;\n    }\n\n    .dataframe tbody tr th {\n        vertical-align: top;\n    }\n\n    .dataframe thead th {\n        text-align: right;\n    }\n</style>\n<table border=\"1\" class=\"dataframe\">\n  <thead>\n    <tr style=\"text-align: right;\">\n      <th></th>\n      <th>XPLG11</th>\n      <th>HGLG11</th>\n      <th>HGRE11</th>\n      <th>SDIL11</th>\n    </tr>\n  </thead>\n  <tbody>\n    <tr>\n      <th>19/01/2021</th>\n      <td>120.30</td>\n      <td>181.50</td>\n      <td>150.15</td>\n      <td>103.12</td>\n    </tr>\n    <tr>\n      <th>Gordon</th>\n      <td>116.45</td>\n      <td>174.42</td>\n      <td>150.50</td>\n      <td>103.49</td>\n    </tr>\n  </tbody>\n</table>\n</div>"
     },
     "metadata": {},
     "execution_count": 47
    }
   ],
   "source": [
    "# Modelo de Gordon\n",
    "d = {'XPLG11': 7.01, 'HGLG11': 10.50, 'HGRE11': 9.06, 'SDIL11': 6.23}       # Dividendos esperado para os próximos 12 meses\n",
    "ipca = 3.52/100                                                             # IPCA esperado para os próximos 12 meses\n",
    "valor_risco = 2.5/100                                                       # Valor de risco \n",
    "g = 0                                                                       # Crescimento esperado\n",
    "k = ipca + valor_risco\n",
    "vp = {}\n",
    "for fii in d:\n",
    "    vp[fii] = round(d[fii]/(k+g),2)\n",
    "\n",
    "# Gerando DF com os Preços Atuais e Valores gerados pelo Modelo     \n",
    "list_price=[]\n",
    "for fii in list_fiis:\n",
    "    df = pd.DataFrame()\n",
    "    ticker = yf.Ticker(f\"{fii}.SA\")\n",
    "    df[fii] = ticker.history(period='1day')['Close']\n",
    "    list_price.append(df)\n",
    "\n",
    "df_price = pd.concat(list_price,axis=1)\n",
    "df_price.index = df_price.index.strftime(date_format=\"%d/%m/%Y\")\n",
    "df_price = df_price.append(pd.DataFrame(vp,index=['Gordon'],columns=df_price.columns))\n",
    "df_price "
   ]
  }
 ]
}
